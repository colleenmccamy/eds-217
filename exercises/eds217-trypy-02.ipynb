{
 "cells": [
  {
   "cell_type": "markdown",
   "metadata": {},
   "source": [
    "# TryPy 2 - Data Types, Indexing, Imports and Plotting\n"
   ]
  },
  {
   "cell_type": "markdown",
   "metadata": {},
   "source": [
    "Vectors, lists & data frames\n",
    "In your notebook (or quarto) document:\n",
    "\n",
    "Create a list called vec_1containing the following:"
   ]
  },
  {
   "cell_type": "code",
   "execution_count": 1,
   "metadata": {},
   "outputs": [],
   "source": [
    "vec_1 = [2, 5, 9, 10, 8, 12, 1, 0]"
   ]
  },
  {
   "cell_type": "markdown",
   "metadata": {},
   "source": [
    "Check the following for that list:\n",
    "\n",
    "What is the type of the list? type()\n",
    "Access the 3rd element and store as vec_1_e3\n",
    "Access the 1st element and store as vec_1_e1\n",
    "Access the 5th through 7th elements and store as vec_1_e5to7\n",
    "Reassign each element in vec_1 as a string and store the new list as vec_1_char. What does the output look like?\n"
   ]
  },
  {
   "cell_type": "code",
   "execution_count": 16,
   "metadata": {},
   "outputs": [
    {
     "name": "stdout",
     "output_type": "stream",
     "text": [
      "[2, 5, 9, 10, 8, 12, 1, 0]\n",
      "[2, 5, 9, 10, 8, 12, 1, 0]\n"
     ]
    }
   ],
   "source": [
    "type(vec_1)\n",
    "\n",
    "vec_1_e3 = vec_1[2]\n",
    "vec_1_e1 = vec_1[1]\n",
    "vec_1_e5to7 = vec_1[4:7]\n",
    "\n",
    "vec_1_char = str(vec_1)\n"
   ]
  },
  {
   "cell_type": "markdown",
   "metadata": {},
   "source": [
    "Create a dictionary called dict_1\n",
    "dict_1 should contained named elements, where town = \"Santa Barbara, location = \"Rincon\", `swell = “south”\n",
    "\n",
    "Take a look at what you’ve made\n",
    "What is the type of dictionary values? type()\n",
    "What is the length of dict_1?\n",
    "Access the ‘location’ value and store as dict_1_v2"
   ]
  },
  {
   "cell_type": "code",
   "execution_count": 41,
   "metadata": {},
   "outputs": [
    {
     "data": {
      "text/plain": [
       "3"
      ]
     },
     "execution_count": 41,
     "metadata": {},
     "output_type": "execute_result"
    }
   ],
   "source": [
    "dict_1 = {\n",
    "    'town': ['Santa Barbara', 'San Diego'], \n",
    "    'location' :['Rincon'], \n",
    "    'swell' : ['south']}\n",
    "\n",
    "\n",
    "hometown = dict_1['town'][1]\n",
    "len(dict_1)\n"
   ]
  },
  {
   "cell_type": "markdown",
   "metadata": {},
   "source": [
    "Create a data frame in pandas\n",
    "Write code to create a data frame called df_1 that looks like this:\n",
    "\n",
    "(Note: translate the R code below into python… don’t forget to import pandas as pd)\n",
    "\n",
    "{r, echo = FALSE} df_1 <- data.frame(     region = c(\"A\", \"B\", \"A\", \"D\"),     species = c(\"otter\", \"great white\", \"sea lion\", \"gray whale\"),     count = c(12, 2, 36, 6)     ) df_1 max_count <- max(df_1$count)\n",
    "\n",
    "Find the maximum value of the count column, store as max_count"
   ]
  },
  {
   "cell_type": "code",
   "execution_count": 42,
   "metadata": {},
   "outputs": [],
   "source": [
    "import pandas as pd"
   ]
  },
  {
   "cell_type": "code",
   "execution_count": null,
   "metadata": {},
   "outputs": [],
   "source": [
    "df_1 = "
   ]
  }
 ],
 "metadata": {
  "kernelspec": {
   "display_name": "Python 3.10.5 ('eds-217')",
   "language": "python",
   "name": "python3"
  },
  "language_info": {
   "codemirror_mode": {
    "name": "ipython",
    "version": 3
   },
   "file_extension": ".py",
   "mimetype": "text/x-python",
   "name": "python",
   "nbconvert_exporter": "python",
   "pygments_lexer": "ipython3",
   "version": "3.10.5"
  },
  "orig_nbformat": 4,
  "vscode": {
   "interpreter": {
    "hash": "887da037b427e4b99c7821a3ace74f381e75d170ea21b461a22111a111d129df"
   }
  }
 },
 "nbformat": 4,
 "nbformat_minor": 2
}
